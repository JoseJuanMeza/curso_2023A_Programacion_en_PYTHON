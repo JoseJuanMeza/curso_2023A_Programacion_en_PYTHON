{
  "nbformat": 4,
  "nbformat_minor": 0,
  "metadata": {
    "colab": {
      "provenance": [],
      "authorship_tag": "ABX9TyN52bjupYWjIsaNhVnEoygE",
      "include_colab_link": true
    },
    "kernelspec": {
      "name": "python3",
      "display_name": "Python 3"
    },
    "language_info": {
      "name": "python"
    }
  },
  "cells": [
    {
      "cell_type": "markdown",
      "metadata": {
        "id": "view-in-github",
        "colab_type": "text"
      },
      "source": [
        "<a href=\"https://colab.research.google.com/github/JoseJuanMeza/curso_2023A_Programacion_en_PYTHON/blob/main/prueba.ipynb\" target=\"_parent\"><img src=\"https://colab.research.google.com/assets/colab-badge.svg\" alt=\"Open In Colab\"/></a>"
      ]
    },
    {
      "cell_type": "code",
      "execution_count": 1,
      "metadata": {
        "colab": {
          "base_uri": "https://localhost:8080/"
        },
        "id": "UfWAQ-A9eXy9",
        "outputId": "dd6420c0-84f7-4c59-ba06-c5d3f63064b6"
      },
      "outputs": [
        {
          "output_type": "stream",
          "name": "stdout",
          "text": [
            "Hola esta es una prueba en mi repositorio\n"
          ]
        }
      ],
      "source": [
        "nombre = \"Hola esta es una prueba en mi repositorio\"\n",
        "print(nombre)"
      ]
    }
  ]
}